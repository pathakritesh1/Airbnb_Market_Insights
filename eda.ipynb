{
 "cells": [
  {
   "cell_type": "code",
   "execution_count": 7,
   "id": "001c64dd",
   "metadata": {},
   "outputs": [],
   "source": [
    "# importing libraries\n",
    "import numpy as np\n",
    "import pandas as pd"
   ]
  },
  {
   "cell_type": "code",
   "execution_count": 8,
   "id": "fb891f86",
   "metadata": {},
   "outputs": [
    {
     "name": "stderr",
     "output_type": "stream",
     "text": [
      "C:\\Users\\admin\\AppData\\Local\\Temp\\ipykernel_2348\\27558052.py:1: DtypeWarning: Columns (25) have mixed types. Specify dtype option on import or set low_memory=False.\n",
      "  abnb = pd.read_csv('D:\\\\CODE\\\\Airbnb\\\\DATA.csv')\n"
     ]
    }
   ],
   "source": [
    "abnb = pd.read_csv('D:\\\\CODE\\\\Airbnb\\\\DATA.csv')"
   ]
  },
  {
   "cell_type": "code",
   "execution_count": null,
   "id": "e1be6d6a",
   "metadata": {},
   "outputs": [
    {
     "data": {
      "text/plain": [
       "Index(['id', 'NAME', 'host id', 'host_identity_verified', 'host name',\n",
       "       'neighbourhood group', 'neighbourhood', 'lat', 'long', 'country',\n",
       "       'country code', 'instant_bookable', 'cancellation_policy', 'room type',\n",
       "       'Construction year', 'price', 'service fee', 'minimum nights',\n",
       "       'number of reviews', 'last review', 'reviews per month',\n",
       "       'review rate number', 'calculated host listings count',\n",
       "       'availability 365', 'house_rules', 'license'],\n",
       "      dtype='object')"
      ]
     },
     "execution_count": 10,
     "metadata": {},
     "output_type": "execute_result"
    }
   ],
   "source": [
    "abnb.columns"
   ]
  },
  {
   "cell_type": "code",
   "execution_count": 11,
   "id": "0a90a34b",
   "metadata": {},
   "outputs": [
    {
     "data": {
      "text/plain": [
       "id                                  int64\n",
       "NAME                               object\n",
       "host id                             int64\n",
       "host_identity_verified             object\n",
       "host name                          object\n",
       "neighbourhood group                object\n",
       "neighbourhood                      object\n",
       "lat                               float64\n",
       "long                              float64\n",
       "country                            object\n",
       "country code                       object\n",
       "instant_bookable                   object\n",
       "cancellation_policy                object\n",
       "room type                          object\n",
       "Construction year                 float64\n",
       "price                              object\n",
       "service fee                        object\n",
       "minimum nights                    float64\n",
       "number of reviews                 float64\n",
       "last review                        object\n",
       "reviews per month                 float64\n",
       "review rate number                float64\n",
       "calculated host listings count    float64\n",
       "availability 365                  float64\n",
       "house_rules                        object\n",
       "license                            object\n",
       "dtype: object"
      ]
     },
     "execution_count": 11,
     "metadata": {},
     "output_type": "execute_result"
    }
   ],
   "source": [
    "abnb.dtypes"
   ]
  },
  {
   "cell_type": "code",
   "execution_count": 5,
   "id": "349d173b",
   "metadata": {},
   "outputs": [
    {
     "name": "stdout",
     "output_type": "stream",
     "text": [
      "id                                     0\n",
      "NAME                                 250\n",
      "host id                                0\n",
      "host_identity_verified               289\n",
      "host name                            406\n",
      "neighbourhood group                   29\n",
      "neighbourhood                         16\n",
      "lat                                    8\n",
      "long                                   8\n",
      "country                              532\n",
      "country code                         131\n",
      "instant_bookable                     105\n",
      "cancellation_policy                   76\n",
      "room type                              0\n",
      "Construction year                    214\n",
      "price                                247\n",
      "service fee                          273\n",
      "minimum nights                       409\n",
      "number of reviews                    183\n",
      "last review                        15893\n",
      "reviews per month                  15879\n",
      "review rate number                   326\n",
      "calculated host listings count       319\n",
      "availability 365                     448\n",
      "house_rules                        52131\n",
      "license                           102597\n",
      "dtype: int64\n"
     ]
    }
   ],
   "source": [
    "# Check for missing values\n",
    "print(abnb.isnull().sum())"
   ]
  },
  {
   "cell_type": "code",
   "execution_count": 13,
   "id": "1c60bee0",
   "metadata": {},
   "outputs": [
    {
     "data": {
      "text/plain": [
       "0    10/19/2021\n",
       "1     5/21/2022\n",
       "2           NaN\n",
       "3      7/5/2019\n",
       "4    11/19/2018\n",
       "5     6/22/2019\n",
       "6     10/5/2017\n",
       "7     10/5/2017\n",
       "8     6/24/2019\n",
       "9     7/21/2017\n",
       "Name: last review, dtype: object"
      ]
     },
     "execution_count": 13,
     "metadata": {},
     "output_type": "execute_result"
    }
   ],
   "source": [
    "#  Check first few rows of 'last review'\n",
    "abnb['last review'].head(10)"
   ]
  },
  {
   "cell_type": "code",
   "execution_count": 14,
   "id": "fcb5da56",
   "metadata": {},
   "outputs": [],
   "source": [
    "abnb['last review'] = pd.to_datetime(abnb['last review'], errors='coerce')"
   ]
  },
  {
   "cell_type": "code",
   "execution_count": 15,
   "id": "bf98b320",
   "metadata": {},
   "outputs": [
    {
     "name": "stderr",
     "output_type": "stream",
     "text": [
      "C:\\Users\\admin\\AppData\\Local\\Temp\\ipykernel_2348\\361162353.py:2: FutureWarning: A value is trying to be set on a copy of a DataFrame or Series through chained assignment using an inplace method.\n",
      "The behavior will change in pandas 3.0. This inplace method will never work because the intermediate object on which we are setting values always behaves as a copy.\n",
      "\n",
      "For example, when doing 'df[col].method(value, inplace=True)', try using 'df.method({col: value}, inplace=True)' or df[col] = df[col].method(value) instead, to perform the operation inplace on the original object.\n",
      "\n",
      "\n",
      "  abnb['last review'].fillna(min_date, inplace=True)\n"
     ]
    }
   ],
   "source": [
    "min_date = abnb['last review'].min()\n",
    "abnb['last review'].fillna(min_date, inplace=True)"
   ]
  },
  {
   "cell_type": "code",
   "execution_count": 16,
   "id": "8fc905d2",
   "metadata": {},
   "outputs": [],
   "source": [
    "abnb['last review'] = abnb['last review'].dt.date"
   ]
  },
  {
   "cell_type": "code",
   "execution_count": 17,
   "id": "ed7bf84b",
   "metadata": {},
   "outputs": [],
   "source": [
    "abnb['reviews per month'] = abnb['reviews per month'].fillna(0)"
   ]
  },
  {
   "cell_type": "code",
   "execution_count": 12,
   "id": "c66e46ba",
   "metadata": {},
   "outputs": [
    {
     "name": "stdout",
     "output_type": "stream",
     "text": [
      "Index(['id', 'NAME', 'host id', 'host_identity_verified', 'host name',\n",
      "       'neighbourhood group', 'neighbourhood', 'lat', 'long', 'country',\n",
      "       'country code', 'instant_bookable', 'cancellation_policy', 'room type',\n",
      "       'Construction year', 'price', 'service fee', 'minimum nights',\n",
      "       'number of reviews', 'last review', 'reviews per month',\n",
      "       'review rate number', 'calculated host listings count',\n",
      "       'availability 365', 'house_rules', 'license'],\n",
      "      dtype='object')\n"
     ]
    }
   ],
   "source": [
    "print(abnb.columns)\n"
   ]
  },
  {
   "cell_type": "code",
   "execution_count": 19,
   "id": "cb711c63",
   "metadata": {},
   "outputs": [],
   "source": [
    "#  Drop rows missing critical data\n",
    "abnb.dropna(subset=['NAME', 'host id'], inplace=True)"
   ]
  },
  {
   "cell_type": "code",
   "execution_count": 20,
   "id": "22dd7351",
   "metadata": {},
   "outputs": [],
   "source": [
    "# Drop unnecessary columns (if present)\n",
    "abnb = abnb.drop(columns=['license', 'house_rules'], errors='ignore')"
   ]
  },
  {
   "cell_type": "code",
   "execution_count": 21,
   "id": "db4b51cc",
   "metadata": {},
   "outputs": [],
   "source": [
    "# Clean monetary columns\n",
    "abnb['price'] = abnb['price'].replace('[\\\\$,]', '', regex=True).astype(float)\n",
    "abnb['service fee'] = abnb['service fee'].replace('[\\\\$,]', '', regex=True).astype(float)"
   ]
  },
  {
   "cell_type": "code",
   "execution_count": 22,
   "id": "ba395bcd",
   "metadata": {},
   "outputs": [],
   "source": [
    "#  Remove duplicates\n",
    "abnb.drop_duplicates(inplace=True)"
   ]
  },
  {
   "cell_type": "code",
   "execution_count": 23,
   "id": "a5b04413",
   "metadata": {},
   "outputs": [
    {
     "name": "stdout",
     "output_type": "stream",
     "text": [
      "id                                  0\n",
      "NAME                                0\n",
      "host id                             0\n",
      "host_identity_verified            277\n",
      "host name                         398\n",
      "neighbourhood group                27\n",
      "neighbourhood                      16\n",
      "lat                                 8\n",
      "long                                8\n",
      "country                           527\n",
      "country code                      123\n",
      "instant_bookable                   97\n",
      "cancellation_policy                71\n",
      "room type                           0\n",
      "Construction year                 205\n",
      "price                             244\n",
      "service fee                       273\n",
      "minimum nights                    394\n",
      "number of reviews                 182\n",
      "last review                         0\n",
      "reviews per month                   0\n",
      "review rate number                311\n",
      "calculated host listings count    318\n",
      "availability 365                  430\n",
      "dtype: int64\n"
     ]
    }
   ],
   "source": [
    "#  Final check for missing values\n",
    "print(abnb.isnull().sum())"
   ]
  },
  {
   "cell_type": "code",
   "execution_count": null,
   "id": "595ac369",
   "metadata": {},
   "outputs": [],
   "source": [
    "#  Save cleaned data to Excel\n",
    "abnb.to_excel('D:\\\\CODE\\\\Airbnb\\\\airbnb_cleaned_data.xlsx', index=False)"
   ]
  }
 ],
 "metadata": {
  "kernelspec": {
   "display_name": "base",
   "language": "python",
   "name": "python3"
  },
  "language_info": {
   "codemirror_mode": {
    "name": "ipython",
    "version": 3
   },
   "file_extension": ".py",
   "mimetype": "text/x-python",
   "name": "python",
   "nbconvert_exporter": "python",
   "pygments_lexer": "ipython3",
   "version": "3.12.7"
  }
 },
 "nbformat": 4,
 "nbformat_minor": 5
}
